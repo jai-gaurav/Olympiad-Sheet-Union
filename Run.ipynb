{
 "cells": [
  {
   "cell_type": "code",
   "execution_count": 1,
   "id": "e98b637e",
   "metadata": {},
   "outputs": [],
   "source": [
    "# import necessary modules\n",
    "import random\n",
    "import pandas as pd\n",
    "import numpy as np\n",
    "from numpy import nan as NA\n",
    "import os"
   ]
  },
  {
   "cell_type": "code",
   "execution_count": 2,
   "id": "e520dd2f",
   "metadata": {},
   "outputs": [],
   "source": [
    "# get first names\n",
    "with open(\"firstnames.txt\", \"r\") as file:\n",
    "    firstnames = file.read().split(\"\\n\")\n",
    "    \n",
    "# get last names\n",
    "with open(\"lastnames.txt\", \"r\") as file:\n",
    "    lastnames = file.read().split(\"\\n\")\n",
    "    \n",
    "# create possible admNo list\n",
    "admNos = list(range(2000, 4000))"
   ]
  },
  {
   "cell_type": "code",
   "execution_count": 3,
   "id": "243d57b3",
   "metadata": {},
   "outputs": [],
   "source": [
    "# name generator function\n",
    "def getName():\n",
    "    return random.choice(firstnames) + \" \" + random.choice(lastnames)\n",
    "\n",
    "# admission number generator function\n",
    "def getAdmNo():\n",
    "    admNo = random.choice(admNos)\n",
    "    admNos.remove(admNo)\n",
    "    return admNo\n",
    "\n",
    "# get olympiad details\n",
    "def getOlympiad():\n",
    "    takeExam = random.choice([True, False])\n",
    "    if takeExam:\n",
    "        takeWorkbook = random.choice([True, True, True, False])\n",
    "        return [takeExam, takeWorkbook]\n",
    "    return [False, False]"
   ]
  },
  {
   "cell_type": "code",
   "execution_count": 4,
   "id": "f56490ce",
   "metadata": {},
   "outputs": [],
   "source": [
    "# student record generator function\n",
    "def getRecord():\n",
    "    IEO = getOlympiad()\n",
    "    IMO = getOlympiad()\n",
    "    NSO = getOlympiad()\n",
    "    NCO = getOlympiad()\n",
    "    \n",
    "    return [getName(), getAdmNo(), \n",
    "            IEO[0], IEO[1], \n",
    "            IMO[0], IMO[1], \n",
    "            NSO[0], NSO[1], \n",
    "            NCO[0], NCO[1]]"
   ]
  },
  {
   "cell_type": "code",
   "execution_count": 5,
   "id": "9831d9c6",
   "metadata": {},
   "outputs": [],
   "source": [
    "# create excel sheet from pandas dataframe\n",
    "def createExcelSheet(sheetName, size = 30):\n",
    "    df = pd.DataFrame(columns = ['Full Name', 'Adm No', \n",
    "                             'IEO', 'IEO Workbook', \n",
    "                             'IMO', 'IMO Workbook',\n",
    "                             'NSO', 'NSO Workbook',\n",
    "                             'NCO', 'NCO Workbook'])\n",
    "\n",
    "    for i in range(size):\n",
    "        df.loc[i] = getRecord()\n",
    "        \n",
    "    df.to_excel('Input Sheets\\\\Class ' + sheetName + '.xlsx', index = False)\n",
    "    \n",
    "\n",
    "# create blank excel sheet from pandas dataframe\n",
    "def createBlankSheet(size = 30):\n",
    "    df = pd.DataFrame(columns = ['Full Name', 'Adm No', \n",
    "                             'IEO', 'IEO Workbook', \n",
    "                             'IMO', 'IMO Workbook',\n",
    "                             'NSO', 'NSO Workbook',\n",
    "                             'NCO', 'NCO Workbook'])\n",
    "\n",
    "    for i in range(size):\n",
    "        df.loc[i] = [NA,] * 10\n",
    "        \n",
    "    df.to_excel('BlankSample.xlsx', index = False)"
   ]
  },
  {
   "cell_type": "code",
   "execution_count": 6,
   "id": "35d9e0bc",
   "metadata": {},
   "outputs": [],
   "source": [
    "# create multiple sheets\n",
    "def generateSheets(nameList):\n",
    "    # clear existing files in input sheets folder\n",
    "    files = getInputFiles()\n",
    "    for file in files:\n",
    "        os.remove('Input Sheets\\\\' + file)\n",
    "    print(\"Input Sheets folder cleared!\")\n",
    "    \n",
    "    # clear existing file in output sheets folder\n",
    "    try:\n",
    "        os.remove('Output Sheets\\\\output.xlsx')\n",
    "        print(\"Ouput Sheets folder cleared!\")\n",
    "    except FileNotFoundError:\n",
    "        print(\"Output Sheets folder already empty!\")\n",
    "    \n",
    "    # add new files\n",
    "    for filename in nameList:\n",
    "        createExcelSheet(filename)"
   ]
  },
  {
   "cell_type": "code",
   "execution_count": 7,
   "id": "1d60511e",
   "metadata": {},
   "outputs": [],
   "source": [
    "# read excel file as dataframe\n",
    "def readFile(filename):\n",
    "    df = pd.read_excel(filename)\n",
    "    return df"
   ]
  },
  {
   "cell_type": "code",
   "execution_count": 8,
   "id": "770c74c7",
   "metadata": {},
   "outputs": [],
   "source": [
    "# function to get record to be added\n",
    "def addRecord(olympiad, record, filename):\n",
    "    out_dict = {'Adm No':[record['Adm No'], ],\n",
    "                'Full Name':[record['Full Name'], ],\n",
    "                'Class':[filename.replace(\"Class \", \"\").replace(\".xlsx\", \"\"), ],\n",
    "                'Workbook':[record[olympiad + ' Workbook'], ]}\n",
    "    out = pd.DataFrame(out_dict)\n",
    "    return out"
   ]
  },
  {
   "cell_type": "code",
   "execution_count": 9,
   "id": "b0511b3f",
   "metadata": {},
   "outputs": [],
   "source": [
    "# function to get input filenames\n",
    "def getInputFiles():\n",
    "    return sorted(os.listdir('Input Sheets'))"
   ]
  },
  {
   "cell_type": "code",
   "execution_count": 10,
   "id": "a474a89d",
   "metadata": {},
   "outputs": [],
   "source": [
    "# generate output excel file\n",
    "def getCombineFile():\n",
    "    # create olympiad wise dataframes\n",
    "    IEO_df = pd.DataFrame(columns = ['Adm No', 'Full Name', 'Class', 'Workbook'])\n",
    "    IMO_df = pd.DataFrame(columns = ['Adm No', 'Full Name', 'Class', 'Workbook'])\n",
    "    NSO_df = pd.DataFrame(columns = ['Adm No', 'Full Name', 'Class', 'Workbook'])\n",
    "    NCO_df = pd.DataFrame(columns = ['Adm No', 'Full Name', 'Class', 'Workbook'])\n",
    "    \n",
    "    # get list of input files\n",
    "    inputFilenames = getInputFiles()\n",
    "    \n",
    "    # load all input dataframes\n",
    "    for filename in inputFilenames:\n",
    "        classDF = readFile('Input Sheets\\\\' + filename)\n",
    "        for ind in classDF.index:\n",
    "            record = classDF.loc[ind]\n",
    "            \n",
    "            # add eligible records to olympiad sheets\n",
    "            if (record['IEO'] == True):\n",
    "                newRecord = addRecord('IEO', record, filename)\n",
    "                IEO_df = pd.concat([IEO_df, newRecord], ignore_index = True)\n",
    "            if (record['IMO'] == True):\n",
    "                newRecord = addRecord('IMO', record, filename)\n",
    "                IMO_df = pd.concat([IMO_df, newRecord], ignore_index = True)\n",
    "            if (record['NSO'] == True):\n",
    "                newRecord = addRecord('NSO', record, filename)\n",
    "                NSO_df = pd.concat([NSO_df, newRecord], ignore_index = True)\n",
    "            if (record['NCO'] == True):\n",
    "                newRecord = addRecord('NCO', record, filename)\n",
    "                NCO_df = pd.concat([NCO_df, newRecord], ignore_index = True)\n",
    "    \n",
    "    # generate excel file with all output olympiad dataframes\n",
    "    with pd.ExcelWriter('Output Sheets\\\\output.xlsx', engine='xlsxwriter') as writer:\n",
    "        IEO_df.to_excel(writer, index = False, sheet_name = 'IEO')\n",
    "        IMO_df.to_excel(writer, index = False, sheet_name = 'IMO')\n",
    "        NSO_df.to_excel(writer, index = False, sheet_name = 'NSO')\n",
    "        NCO_df.to_excel(writer, index = False, sheet_name = 'NCO')"
   ]
  },
  {
   "cell_type": "markdown",
   "id": "c03da4b9",
   "metadata": {},
   "source": [
    "# Showcase Area"
   ]
  },
  {
   "cell_type": "markdown",
   "id": "9b74ecde",
   "metadata": {},
   "source": [
    "### Create new dummy input sheets"
   ]
  },
  {
   "cell_type": "markdown",
   "id": "634a9afa",
   "metadata": {},
   "source": [
    "['8A', '8B', '8C', '9A', '9B', '9C', '10A', '10B', '10C', '10D', '11A', '11B', '11C', '12A', '12B']"
   ]
  },
  {
   "cell_type": "markdown",
   "id": "5304024b",
   "metadata": {},
   "source": [
    "['10A', '10B', '10C', '10D', '10E']"
   ]
  },
  {
   "cell_type": "code",
   "execution_count": 11,
   "id": "782bbeb2",
   "metadata": {},
   "outputs": [],
   "source": [
    "#generateSheets(['8A', '8B', '8C', '9A', '9B', '9C', '10A', '10B', '10C', '10D', '11A', '11B', '11C', '12A', '12B', '69A'])"
   ]
  },
  {
   "cell_type": "markdown",
   "id": "0be71fc0",
   "metadata": {},
   "source": [
    "### Create final output olympiad file"
   ]
  },
  {
   "cell_type": "code",
   "execution_count": 14,
   "id": "61d1bc93",
   "metadata": {},
   "outputs": [],
   "source": [
    "#getCombineFile()"
   ]
  },
  {
   "cell_type": "markdown",
   "id": "bfc34663",
   "metadata": {},
   "source": [
    "### Create blank sample input file"
   ]
  },
  {
   "cell_type": "code",
   "execution_count": 13,
   "id": "b0240346",
   "metadata": {},
   "outputs": [],
   "source": [
    "#createBlankSheet()"
   ]
  }
 ],
 "metadata": {
  "kernelspec": {
   "display_name": "Python 3 (ipykernel)",
   "language": "python",
   "name": "python3"
  },
  "language_info": {
   "codemirror_mode": {
    "name": "ipython",
    "version": 3
   },
   "file_extension": ".py",
   "mimetype": "text/x-python",
   "name": "python",
   "nbconvert_exporter": "python",
   "pygments_lexer": "ipython3",
   "version": "3.8.8"
  }
 },
 "nbformat": 4,
 "nbformat_minor": 5
}
